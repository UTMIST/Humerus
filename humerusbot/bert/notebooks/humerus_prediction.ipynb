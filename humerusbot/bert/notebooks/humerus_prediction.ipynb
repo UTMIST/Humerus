{
 "cells": [
  {
   "cell_type": "code",
   "execution_count": 12,
   "metadata": {
    "executionInfo": {
     "elapsed": 24301,
     "status": "ok",
     "timestamp": 1611511224601,
     "user": {
      "displayName": "Brian Chen",
      "photoUrl": "https://lh3.googleusercontent.com/a-/AOh14Gh_6ex7lu1J7UG7wV2RfnS0UWArWg9XiSFToCl1TA=s64",
      "userId": "16803751930876923121"
     },
     "user_tz": 300
    },
    "id": "NPnAmKdTSuX4"
   },
   "outputs": [],
   "source": [
    "%%capture\n",
    "!pip install pickle5\n",
    "!pip install -U sentence-transformers\n",
    "import pickle5\n",
    "import tensorflow.keras as keras\n",
    "import tensorflow.keras.layers as layers\n",
    "import numpy as np\n",
    "import json\n",
    "import psycopg2\n",
    "import pickle\n",
    "from sentence_transformers import SentenceTransformer\n"
   ]
  },
  {
   "cell_type": "code",
   "execution_count": 1,
   "metadata": {
    "colab": {
     "base_uri": "https://localhost:8080/"
    },
    "executionInfo": {
     "elapsed": 29341,
     "status": "ok",
     "timestamp": 1611511143892,
     "user": {
      "displayName": "Brian Chen",
      "photoUrl": "https://lh3.googleusercontent.com/a-/AOh14Gh_6ex7lu1J7UG7wV2RfnS0UWArWg9XiSFToCl1TA=s64",
      "userId": "16803751930876923121"
     },
     "user_tz": 300
    },
    "id": "XI9rfQyuUG1S",
    "outputId": "3de70653-11cc-4aab-de8a-d9ae645b4f33"
   },
   "outputs": [
    {
     "name": "stdout",
     "output_type": "stream",
     "text": [
      "Mounted at /content/drive\n"
     ]
    }
   ],
   "source": [
    "from google.colab import drive\n",
    "drive.mount('/content/drive')"
   ]
  },
  {
   "cell_type": "code",
   "execution_count": 16,
   "metadata": {
    "colab": {
     "base_uri": "https://localhost:8080/"
    },
    "executionInfo": {
     "elapsed": 3778,
     "status": "ok",
     "timestamp": 1611511246993,
     "user": {
      "displayName": "Brian Chen",
      "photoUrl": "https://lh3.googleusercontent.com/a-/AOh14Gh_6ex7lu1J7UG7wV2RfnS0UWArWg9XiSFToCl1TA=s64",
      "userId": "16803751930876923121"
     },
     "user_tz": 300
    },
    "id": "LHXYQz4ZTV5h",
    "outputId": "e93d82b4-b7c6-4e8b-e0dc-25030ebf3c5a"
   },
   "outputs": [
    {
     "name": "stdout",
     "output_type": "stream",
     "text": [
      "humerusdb humerusdecks UofT2020 ls-efb01dd3082301e5fe99a590e045a554867bb266.cwusutjvyntq.us-west-2.rds.amazonaws.com 5432\n",
      "Successfully connected to database.\n",
      "Saving games... Skipping all rows where a game was not played.\n",
      "Saved game from row 18 to dictionary and appended dictionary to list.\n",
      "Saved game from row 20 to dictionary and appended dictionary to list.\n",
      "Saved game from row 10 to dictionary and appended dictionary to list.\n",
      "Saved game from row 64 to dictionary and appended dictionary to list.\n",
      "Saved game from row 47 to dictionary and appended dictionary to list.\n",
      "Saved game from row 23 to dictionary and appended dictionary to list.\n",
      "Saved game from row 15 to dictionary and appended dictionary to list.\n",
      "Saved game from row 36 to dictionary and appended dictionary to list.\n",
      "Saved game from row 49 to dictionary and appended dictionary to list.\n",
      "Saved game from row 8 to dictionary and appended dictionary to list.\n",
      "Saved game from row 42 to dictionary and appended dictionary to list.\n",
      "Saved game from row 55 to dictionary and appended dictionary to list.\n",
      "Saved game from row 46 to dictionary and appended dictionary to list.\n",
      "Saved game from row 62 to dictionary and appended dictionary to list.\n",
      "Saved game from row 63 to dictionary and appended dictionary to list.\n",
      "All game data selected from database and stored in list of dictionaries.\n",
      "Successfully cleaned all game data and returned it in a list of tuples.\n"
     ]
    }
   ],
   "source": [
    "!cp /content/drive/MyDrive/UTMIST/Humerus/Dev\\ Files/postgres_access.txt /content/postgres_access.txt\n",
    "file = \"/content/postgres_access.txt\"\n",
    "dataManager = DataManager(file)\n",
    "game_results = dataManager.cleanGameData(dataManager.fetchGameData())"
   ]
  },
  {
   "cell_type": "code",
   "execution_count": 17,
   "metadata": {
    "executionInfo": {
     "elapsed": 969,
     "status": "ok",
     "timestamp": 1611511250175,
     "user": {
      "displayName": "Brian Chen",
      "photoUrl": "https://lh3.googleusercontent.com/a-/AOh14Gh_6ex7lu1J7UG7wV2RfnS0UWArWg9XiSFToCl1TA=s64",
      "userId": "16803751930876923121"
     },
     "user_tz": 300
    },
    "id": "Au56VMdRUH6D"
   },
   "outputs": [],
   "source": [
    "raw_play_strings = [i[0] for i in game_results]\n",
    "# 1 if win, 0 if loss\n",
    "y_data = [1 if i[1] else 0 for i in game_results]"
   ]
  },
  {
   "cell_type": "code",
   "execution_count": 13,
   "metadata": {
    "executionInfo": {
     "elapsed": 16570,
     "status": "ok",
     "timestamp": 1611511224616,
     "user": {
      "displayName": "Brian Chen",
      "photoUrl": "https://lh3.googleusercontent.com/a-/AOh14Gh_6ex7lu1J7UG7wV2RfnS0UWArWg9XiSFToCl1TA=s64",
      "userId": "16803751930876923121"
     },
     "user_tz": 300
    },
    "id": "Jz7AQO5rUpXt"
   },
   "outputs": [],
   "source": [
    "!cp /content/drive/MyDrive/UTMIST/Humerus/Dev\\ Files/training_set_data_69.pkl /content/training_set_data_69.pkl\n",
    "\n",
    "with open('/content/training_set_data_69.pkl', 'rb') as f:\n",
    "    embed_table = pickle5.load(f)"
   ]
  },
  {
   "cell_type": "code",
   "execution_count": 14,
   "metadata": {
    "executionInfo": {
     "elapsed": 8381,
     "status": "ok",
     "timestamp": 1611511224755,
     "user": {
      "displayName": "Brian Chen",
      "photoUrl": "https://lh3.googleusercontent.com/a-/AOh14Gh_6ex7lu1J7UG7wV2RfnS0UWArWg9XiSFToCl1TA=s64",
      "userId": "16803751930876923121"
     },
     "user_tz": 300
    },
    "id": "u_jaJsVzUbpV"
   },
   "outputs": [],
   "source": [
    "embed_dict = {}\n",
    "for i, x in enumerate(zip(embed_table['sentence'], embed_table['Bert_embed_69'])):\n",
    "    embed_dict[x[0]] = x[1]"
   ]
  },
  {
   "cell_type": "code",
   "execution_count": 4,
   "metadata": {
    "executionInfo": {
     "elapsed": 855,
     "status": "ok",
     "timestamp": 1611511149259,
     "user": {
      "displayName": "Brian Chen",
      "photoUrl": "https://lh3.googleusercontent.com/a-/AOh14Gh_6ex7lu1J7UG7wV2RfnS0UWArWg9XiSFToCl1TA=s64",
      "userId": "16803751930876923121"
     },
     "user_tz": 300
    },
    "id": "_jAKuLLYRZqM"
   },
   "outputs": [],
   "source": [
    "'''\n",
    "The pca class\n",
    "input matrix should be m x 768 where m is the number of examples.\n",
    "'''\n",
    "class pca:\n",
    "    def __init__(self, cov_path):\n",
    "        with open(cov_path, 'rb') as f:\n",
    "            cache = pickle.load(f)\n",
    "\n",
    "        self.eigenvector = cache[\"eigenvectors\"]\n",
    "        self.eigenvalue = cache[\"eigenvalues\"]\n",
    "        self.mean = cache[\"mean\"]\n",
    "        self.sd = cache[\"std\"]\n",
    "        \n",
    "    def reduce_kdim(self, X, k):\n",
    "        X = (X - self.mean) / self.sd\n",
    "        X_reduced = np.dot(X, self.eigenvector[:, :k])\n",
    "        return X_reduced\n"
   ]
  },
  {
   "cell_type": "code",
   "execution_count": 18,
   "metadata": {
    "colab": {
     "base_uri": "https://localhost:8080/"
    },
    "executionInfo": {
     "elapsed": 18657,
     "status": "ok",
     "timestamp": 1611511274478,
     "user": {
      "displayName": "Brian Chen",
      "photoUrl": "https://lh3.googleusercontent.com/a-/AOh14Gh_6ex7lu1J7UG7wV2RfnS0UWArWg9XiSFToCl1TA=s64",
      "userId": "16803751930876923121"
     },
     "user_tz": 300
    },
    "id": "ybYj_3dsWIZn",
    "outputId": "edfc91c6-6622-4cf1-cdbe-b6f63a0c73ff"
   },
   "outputs": [
    {
     "name": "stderr",
     "output_type": "stream",
     "text": [
      "100%|██████████| 245M/245M [00:12<00:00, 20.3MB/s]\n"
     ]
    }
   ],
   "source": [
    "# on the fly generation\n",
    "s_model = SentenceTransformer('distilbert-base-nli-mean-tokens')\n",
    "!cp /content/drive/MyDrive/UTMIST/Humerus/Dev\\ Files/pca_cache_69.pkl /content/pca_cache_69.pkl\n",
    "pcaifier = pca('/content/pca_cache_69.pkl')"
   ]
  },
  {
   "cell_type": "code",
   "execution_count": 19,
   "metadata": {
    "executionInfo": {
     "elapsed": 36613,
     "status": "ok",
     "timestamp": 1611511295335,
     "user": {
      "displayName": "Brian Chen",
      "photoUrl": "https://lh3.googleusercontent.com/a-/AOh14Gh_6ex7lu1J7UG7wV2RfnS0UWArWg9XiSFToCl1TA=s64",
      "userId": "16803751930876923121"
     },
     "user_tz": 300
    },
    "id": "nGSnJGiVTH6Y"
   },
   "outputs": [],
   "source": [
    "X_train, Y_train = [], []\n",
    "dictkeys = list(embed_dict.keys())\n",
    "for i, x in enumerate(raw_play_strings):\n",
    "    try:\n",
    "        embed = embed_dict[x]\n",
    "        X_train.append(embed)\n",
    "        Y_train.append(y_data[i])\n",
    "    except:\n",
    "        embed = pcaifier.reduce_kdim(s_model.encode(x), 69)\n",
    "        X_train.append(embed)\n",
    "        Y_train.append(y_data[i])\n",
    "\n",
    "X_train = np.array(X_train)\n",
    "Y_train = np.array(Y_train)\n"
   ]
  },
  {
   "cell_type": "code",
   "execution_count": 22,
   "metadata": {
    "colab": {
     "base_uri": "https://localhost:8080/"
    },
    "executionInfo": {
     "elapsed": 1922,
     "status": "ok",
     "timestamp": 1611511304615,
     "user": {
      "displayName": "Brian Chen",
      "photoUrl": "https://lh3.googleusercontent.com/a-/AOh14Gh_6ex7lu1J7UG7wV2RfnS0UWArWg9XiSFToCl1TA=s64",
      "userId": "16803751930876923121"
     },
     "user_tz": 300
    },
    "id": "k659E3NvWyZA",
    "outputId": "27391a7e-4798-4bad-9f88-3b1307d47370"
   },
   "outputs": [
    {
     "name": "stdout",
     "output_type": "stream",
     "text": [
      "Model: \"sequential\"\n",
      "_________________________________________________________________\n",
      "Layer (type)                 Output Shape              Param #   \n",
      "=================================================================\n",
      "dense (Dense)                (None, 69)                4830      \n",
      "_________________________________________________________________\n",
      "dense_1 (Dense)              (None, 69)                4830      \n",
      "_________________________________________________________________\n",
      "dense_2 (Dense)              (None, 1)                 70        \n",
      "=================================================================\n",
      "Total params: 9,730\n",
      "Trainable params: 9,730\n",
      "Non-trainable params: 0\n",
      "_________________________________________________________________\n"
     ]
    }
   ],
   "source": [
    "pred_net = predictionNetwork.from_scratch(69)"
   ]
  },
  {
   "cell_type": "code",
   "execution_count": null,
   "metadata": {
    "id": "zme4lpXDWKBz"
   },
   "outputs": [],
   "source": [
    "pred_net.train_model(X_train, Y_train, 69)"
   ]
  },
  {
   "cell_type": "code",
   "execution_count": 21,
   "metadata": {
    "executionInfo": {
     "elapsed": 1388,
     "status": "ok",
     "timestamp": 1611511302371,
     "user": {
      "displayName": "Brian Chen",
      "photoUrl": "https://lh3.googleusercontent.com/a-/AOh14Gh_6ex7lu1J7UG7wV2RfnS0UWArWg9XiSFToCl1TA=s64",
      "userId": "16803751930876923121"
     },
     "user_tz": 300
    },
    "id": "6GpjR2gnUZDN"
   },
   "outputs": [],
   "source": [
    "def make_model(input_size):\n",
    "    model = keras.Sequential()\n",
    "    model.add(layers.Dense(input_size, input_shape=(input_size, ), activation='relu'))\n",
    "    model.add(layers.Dense(input_size))\n",
    "    model.add(layers.Dense(1))\n",
    "    model.compile(optimizer='adam', loss='binary_crossentropy', metrics=['accuracy'])\n",
    "    return model"
   ]
  },
  {
   "cell_type": "code",
   "execution_count": 6,
   "metadata": {
    "executionInfo": {
     "elapsed": 2564,
     "status": "ok",
     "timestamp": 1611511159337,
     "user": {
      "displayName": "Brian Chen",
      "photoUrl": "https://lh3.googleusercontent.com/a-/AOh14Gh_6ex7lu1J7UG7wV2RfnS0UWArWg9XiSFToCl1TA=s64",
      "userId": "16803751930876923121"
     },
     "user_tz": 300
    },
    "id": "SfJQu-ekQe66"
   },
   "outputs": [],
   "source": [
    "class predictionNetwork:\n",
    "    \"\"\"basic binary classifier prediction network for CAH\n",
    "    \"\"\"\n",
    "    def __init__(self, model): \n",
    "        self.model = model\n",
    "\n",
    "    @classmethod\n",
    "    def from_scratch(cls, input_shape):\n",
    "        mdl=make_model(input_shape)\n",
    "        mdl.summary()\n",
    "        return cls(mdl)\n",
    "\n",
    "    @classmethod\n",
    "    def from_file(cls, input_shape, weight_path): \n",
    "        # get input shape\n",
    "        # pass relative path strings\n",
    "        mdl = make_model(input_shape)\n",
    "        mdl.load_weights(weight_path)\n",
    "        return cls(mdl)\n",
    "\n",
    "\n",
    "    def save_models(self, folder, name):\n",
    "        # assuming path: ./mdls/l & ./mdls/r for left & right models, respectively. And left and right are of same num.\n",
    "        # naming convention: {mdl_type}_num.h5\n",
    "        paths = os.listdir(folder)\n",
    "        try:\n",
    "            paths.remove('.ipynb_checkpoint')\n",
    "        except:\n",
    "            pass\n",
    "        if len(paths) == 0:\n",
    "            n = 1\n",
    "        else:\n",
    "            n = max([int(re.findall(\"\\d+\", i)[0]) for i in paths]) + 1\n",
    "        self.model.save(name+'_{n}.h5'.format(n=str(n)))\n",
    "\n",
    "    def train_model(self, x_train, y_train, n_epochs):\n",
    "        print(\"-------STARTING TRAINING------\")\n",
    "\n",
    "        print(\"-----SHAPES-------\")\n",
    "        print(\"X:\", x_train.shape)\n",
    "        print(\"Y:\", y_train.shape)\n",
    "\n",
    "        self.model.fit(x=x_train, y=y_train, \\\n",
    "            epochs=n_epochs, verbose=1, \\\n",
    "            validation_split = 0.1, shuffle=True ) \n",
    "        \n",
    "    def evaluate(self, x):\n",
    "        # x can be single item or list!\n",
    "        return self.model.predict(np.expand_dims(x, axis=0), batch_size=1)[0]\n",
    "\n"
   ]
  },
  {
   "cell_type": "code",
   "execution_count": 7,
   "metadata": {
    "executionInfo": {
     "elapsed": 992,
     "status": "ok",
     "timestamp": 1611511163505,
     "user": {
      "displayName": "Brian Chen",
      "photoUrl": "https://lh3.googleusercontent.com/a-/AOh14Gh_6ex7lu1J7UG7wV2RfnS0UWArWg9XiSFToCl1TA=s64",
      "userId": "16803751930876923121"
     },
     "user_tz": 300
    },
    "id": "VhSPCW_rSvyr"
   },
   "outputs": [],
   "source": [
    "# A class to fetch and clean all game data from the Postgres DB for training \n",
    "class DataManager:\n",
    "\n",
    "    # initialize DataManager class with text file containing postgres DB access info\n",
    "    def __init__(self, file):\n",
    "        self.file = file\n",
    "        self.parsed_data = None\n",
    "    # Returns a list of dictionaries containing each game's lobby data in JSON format\n",
    "\n",
    "    def fetch(self):\n",
    "        \"\"\"\n",
    "        fills self.parsed_data\n",
    "        \"\"\"\n",
    "        self.parsed_data = self.cleanGameData(self.fetchGameData())\n",
    "\n",
    "    def toJson(self, filename):\n",
    "        if self.parsed_data is None:\n",
    "            self.fetch()\n",
    "        json.dump(self.parsed_data, open(filename, 'w'))\n",
    "\n",
    "    def fetchGameData(self):\n",
    "\n",
    "        # Access Postgres DB credentials\n",
    "        f = open(file, \"r\")\n",
    "\n",
    "        # Connect to Postgres DB\n",
    "        DB_NAME = (f.readline()).strip()\n",
    "        DB_USER = (f.readline()).strip()\n",
    "        DB_PASS = (f.readline()).strip()\n",
    "        DB_HOST = (f.readline()).strip()\n",
    "        DB_PORT = (f.readline()).strip()\n",
    "\n",
    "        print(DB_NAME, DB_USER, DB_PASS, DB_HOST, DB_PORT)\n",
    "\n",
    "        conn = psycopg2.connect(database = DB_NAME, user = DB_USER, password = DB_PASS, \n",
    "                                        host = DB_HOST, port = DB_PORT)\n",
    "\n",
    "        print(\"Successfully connected to database.\")\n",
    "\n",
    "        cur = conn.cursor()\n",
    "\n",
    "        cur.execute(\"SELECT ID, LOBBY FROM massivedecks.lobbies\")\n",
    "\n",
    "        allGameData = []\n",
    "        rows = cur.fetchall()\n",
    "        \n",
    "        print(\"Saving games... Skipping all rows where a game was not played.\")\n",
    "\n",
    "        for data in rows:\n",
    "            rawGameData = data[1]\n",
    "\n",
    "            # Skip all rows where a game was not played and the game history is not empty\n",
    "            if \"game\" in rawGameData:\n",
    "                if rawGameData[\"game\"][\"history\"]:\n",
    "                    allGameData.append(rawGameData.copy())\n",
    "                    print(\"Saved game from row \" + str(data[0]) + \" to dictionary and appended dictionary to list.\") \n",
    "\n",
    "        print(\"All game data selected from database and stored in list of dictionaries.\")\n",
    "        conn.close()\n",
    "\n",
    "        return allGameData\n",
    "\n",
    "    # Accepts list of dictionaries as input and returns list of tuples (call, play, result) as output\n",
    "    def cleanGameData(self, data):\n",
    "        flatten = lambda t: [item for sublist in t for item in sublist]\n",
    "\n",
    "        results = []\n",
    "\n",
    "        # Loop through every game\n",
    "        for game in data:\n",
    "\n",
    "            # Loop through every round in the game\n",
    "            for gameRound in game[\"game\"][\"history\"]:\n",
    "                \n",
    "                # Declare call card, to be added to tuple\n",
    "                call = gameRound[\"call\"][\"parts\"]\n",
    "\n",
    "                winner = int(gameRound[\"winner\"])\n",
    "\n",
    "                # Loop through every player in the round\n",
    "                for player in gameRound[\"plays\"]:\n",
    "\n",
    "                    # Declare play card and play result, to be added to tuple\n",
    "                    plays = []\n",
    "                    won = False\n",
    "\n",
    "                    # Set result as won if player ID matches winner ID\n",
    "                    if int(player) == winner:\n",
    "                        won = True\n",
    "\n",
    "                    # Loop through every play made by the player\n",
    "                    for play in gameRound[\"plays\"][player][\"play\"]:\n",
    "                        played = play[\"text\"]\n",
    "                        plays.append(played)\n",
    "\n",
    "                    # combine call and plays\n",
    "                    # result = (call, plays, won)\n",
    "\n",
    "                    call = flatten(call)\n",
    "                    while _find_first_instance_by_type(call, dict) != -1 and len(plays): # make sure plays is not empty\n",
    "                        call[_find_first_instance_by_type(call, dict)] = plays.pop(0)\n",
    "                    \n",
    "                    while _find_first_instance_by_type(call, dict) != -1: \n",
    "                        # if there is still styling in dict format in call, remove it\n",
    "                        call[_find_first_instance_by_type(call, dict)] = \"\" \n",
    "                        \n",
    "                    sentence = \"\".join(call)\n",
    "\n",
    "                    results.append((sentence, won))\n",
    "\n",
    "        print(\"Successfully cleaned all game data and returned it in a list of tuples.\")\n",
    "        return results\n",
    "\n",
    "\n",
    "def _find_first_instance_by_type(list, t):\n",
    "    \"\"\"\n",
    "    returns index of first instance of type t, -1 otherwise\n",
    "    list: list,\n",
    "    t: type to look for \n",
    "    \"\"\"\n",
    "    for ind, itm in enumerate(list):\n",
    "        if type(itm) == t:\n",
    "            return ind\n",
    "    return -1\n",
    "\n",
    "\n",
    "\n"
   ]
  },
  {
   "cell_type": "code",
   "execution_count": 8,
   "metadata": {
    "executionInfo": {
     "elapsed": 8127,
     "status": "ok",
     "timestamp": 1611511176191,
     "user": {
      "displayName": "Brian Chen",
      "photoUrl": "https://lh3.googleusercontent.com/a-/AOh14Gh_6ex7lu1J7UG7wV2RfnS0UWArWg9XiSFToCl1TA=s64",
      "userId": "16803751930876923121"
     },
     "user_tz": 300
    },
    "id": "R0pCJVCFV002"
   },
   "outputs": [],
   "source": [
    "%%capture\n",
    "# ghetto flask API\n",
    "!pip install flask-ngrok\n",
    "!pip install flask==0.12.2 # for compatability with flask-ngrok\n",
    "from flask import Flask, request, jsonify\n",
    "from flask_ngrok import run_with_ngrok\n"
   ]
  },
  {
   "cell_type": "code",
   "execution_count": 23,
   "metadata": {
    "executionInfo": {
     "elapsed": 948,
     "status": "ok",
     "timestamp": 1611511313130,
     "user": {
      "displayName": "Brian Chen",
      "photoUrl": "https://lh3.googleusercontent.com/a-/AOh14Gh_6ex7lu1J7UG7wV2RfnS0UWArWg9XiSFToCl1TA=s64",
      "userId": "16803751930876923121"
     },
     "user_tz": 300
    },
    "id": "R5plbXJ5Vwoy"
   },
   "outputs": [],
   "source": [
    "app = Flask(__name__)\n",
    "app.config['JSONIFY_PRETTYPRINT_REGULAR'] = False\n",
    "rd = 0\n",
    "@app.route('/', methods=['GET', 'POST']) # (g)et_(p)robability\n",
    "def eval_model():\n",
    "    global embed_dict, s_model, pcaifier, pred_net, rd # change this later\n",
    "\n",
    "    if request.method == 'POST':  #POST a json list only. for 1 element, do 1 elem list.\n",
    "        raw_text = request.form.get('text')\n",
    "        if type(raw_text) == str:\n",
    "            raw_text = json.loads(raw_text.replace(\"'\", '\"'))\n",
    "\n",
    "        try:\n",
    "            embed = embed_dict[raw_text]\n",
    "        except:\n",
    "            embed = pcaifier.reduce_kdim(s_model.encode(raw_text), 69)\n",
    "        \n",
    "        payload = pred_net.evaluate(embed)\n",
    "        return jsonify([str(i) for i in payload.flatten()])\n",
    "        \n",
    "    s = \"\"\"<form method=\"POST\">\n",
    "                  Text: <input type=\"text\" name=\"text\"><br>\n",
    "                  <input type=\"submit\" value=\"Submit\"><br>\n",
    "              </form>\"\"\"\n",
    "    return s"
   ]
  },
  {
   "cell_type": "code",
   "execution_count": null,
   "metadata": {
    "id": "fdEB_l3UfOBX"
   },
   "outputs": [],
   "source": [
    "payload = pred_net.evaluate(da)"
   ]
  },
  {
   "cell_type": "code",
   "execution_count": null,
   "metadata": {
    "colab": {
     "base_uri": "https://localhost:8080/"
    },
    "id": "7wl7xkqcacEv",
    "outputId": "f8aadd86-af37-4a22-8d17-2fb61e7fdae1"
   },
   "outputs": [
    {
     "name": "stderr",
     "output_type": "stream",
     "text": [
      " * Running on http://127.0.0.1:5000/ (Press CTRL+C to quit)\n"
     ]
    },
    {
     "name": "stdout",
     "output_type": "stream",
     "text": [
      " * Running on http://fbd2e9d6ff92.ngrok.io\n",
      " * Traffic stats available on http://127.0.0.1:4040\n"
     ]
    },
    {
     "name": "stderr",
     "output_type": "stream",
     "text": [
      "127.0.0.1 - - [24/Jan/2021 18:02:01] \"\u001b[37mGET / HTTP/1.1\u001b[0m\" 200 -\n",
      "127.0.0.1 - - [24/Jan/2021 18:02:03] \"\u001b[33mGET /favicon.ico HTTP/1.1\u001b[0m\" 404 -\n",
      "[2021-01-24 18:02:14,014] ERROR in app: Exception on / [POST]\n",
      "Traceback (most recent call last):\n",
      "  File \"/usr/local/lib/python3.6/dist-packages/flask/app.py\", line 1982, in wsgi_app\n",
      "    response = self.full_dispatch_request()\n",
      "  File \"/usr/local/lib/python3.6/dist-packages/flask/app.py\", line 1614, in full_dispatch_request\n",
      "    rv = self.handle_user_exception(e)\n",
      "  File \"/usr/local/lib/python3.6/dist-packages/flask/app.py\", line 1517, in handle_user_exception\n",
      "    reraise(exc_type, exc_value, tb)\n",
      "  File \"/usr/local/lib/python3.6/dist-packages/flask/_compat.py\", line 33, in reraise\n",
      "    raise value\n",
      "  File \"/usr/local/lib/python3.6/dist-packages/flask/app.py\", line 1612, in full_dispatch_request\n",
      "    rv = self.dispatch_request()\n",
      "  File \"/usr/local/lib/python3.6/dist-packages/flask/app.py\", line 1598, in dispatch_request\n",
      "    return self.view_functions[rule.endpoint](**req.view_args)\n",
      "  File \"<ipython-input-23-de573fd38fd8>\", line 11, in eval_model\n",
      "    raw_text = json.loads(raw_text.replace(\"'\", '\"'))\n",
      "  File \"/usr/lib/python3.6/json/__init__.py\", line 354, in loads\n",
      "    return _default_decoder.decode(s)\n",
      "  File \"/usr/lib/python3.6/json/decoder.py\", line 339, in decode\n",
      "    obj, end = self.raw_decode(s, idx=_w(s, 0).end())\n",
      "  File \"/usr/lib/python3.6/json/decoder.py\", line 357, in raw_decode\n",
      "    raise JSONDecodeError(\"Expecting value\", s, err.value) from None\n",
      "json.decoder.JSONDecodeError: Expecting value: line 1 column 1 (char 0)\n",
      "127.0.0.1 - - [24/Jan/2021 18:02:14] \"\u001b[35m\u001b[1mPOST / HTTP/1.1\u001b[0m\" 500 -\n",
      "127.0.0.1 - - [24/Jan/2021 18:02:19] \"\u001b[37mGET / HTTP/1.1\u001b[0m\" 200 -\n",
      "127.0.0.1 - - [24/Jan/2021 18:02:26] \"\u001b[37mPOST / HTTP/1.1\u001b[0m\" 200 -\n",
      "127.0.0.1 - - [24/Jan/2021 18:04:35] \"\u001b[37mGET / HTTP/1.1\u001b[0m\" 200 -\n",
      "127.0.0.1 - - [24/Jan/2021 18:04:35] \"\u001b[33mGET /favicon.ico HTTP/1.1\u001b[0m\" 404 -\n",
      "127.0.0.1 - - [24/Jan/2021 18:04:35] \"\u001b[37mGET / HTTP/1.1\u001b[0m\" 200 -\n",
      "127.0.0.1 - - [24/Jan/2021 18:04:36] \"\u001b[33mGET /favicon.ico HTTP/1.1\u001b[0m\" 404 -\n",
      "127.0.0.1 - - [24/Jan/2021 18:04:48] \"\u001b[37mGET / HTTP/1.1\u001b[0m\" 200 -\n",
      "127.0.0.1 - - [24/Jan/2021 18:05:00] \"\u001b[37mPOST / HTTP/1.1\u001b[0m\" 200 -\n",
      "127.0.0.1 - - [24/Jan/2021 18:05:22] \"\u001b[37mGET / HTTP/1.1\u001b[0m\" 200 -\n",
      "127.0.0.1 - - [24/Jan/2021 18:05:39] \"\u001b[37mPOST / HTTP/1.1\u001b[0m\" 200 -\n",
      "127.0.0.1 - - [24/Jan/2021 18:05:40] \"\u001b[37mPOST / HTTP/1.1\u001b[0m\" 200 -\n",
      "127.0.0.1 - - [24/Jan/2021 18:05:42] \"\u001b[37mGET / HTTP/1.1\u001b[0m\" 200 -\n",
      "127.0.0.1 - - [24/Jan/2021 18:05:43] \"\u001b[37mGET / HTTP/1.1\u001b[0m\" 200 -\n",
      "[2021-01-24 18:05:53,085] ERROR in app: Exception on / [POST]\n",
      "Traceback (most recent call last):\n",
      "  File \"/usr/local/lib/python3.6/dist-packages/flask/app.py\", line 1982, in wsgi_app\n",
      "    response = self.full_dispatch_request()\n",
      "  File \"/usr/local/lib/python3.6/dist-packages/flask/app.py\", line 1614, in full_dispatch_request\n",
      "    rv = self.handle_user_exception(e)\n",
      "  File \"/usr/local/lib/python3.6/dist-packages/flask/app.py\", line 1517, in handle_user_exception\n",
      "    reraise(exc_type, exc_value, tb)\n",
      "  File \"/usr/local/lib/python3.6/dist-packages/flask/_compat.py\", line 33, in reraise\n",
      "    raise value\n",
      "  File \"/usr/local/lib/python3.6/dist-packages/flask/app.py\", line 1612, in full_dispatch_request\n",
      "    rv = self.dispatch_request()\n",
      "  File \"/usr/local/lib/python3.6/dist-packages/flask/app.py\", line 1598, in dispatch_request\n",
      "    return self.view_functions[rule.endpoint](**req.view_args)\n",
      "  File \"<ipython-input-23-de573fd38fd8>\", line 11, in eval_model\n",
      "    raw_text = json.loads(raw_text.replace(\"'\", '\"'))\n",
      "  File \"/usr/lib/python3.6/json/__init__.py\", line 354, in loads\n",
      "    return _default_decoder.decode(s)\n",
      "  File \"/usr/lib/python3.6/json/decoder.py\", line 342, in decode\n",
      "    raise JSONDecodeError(\"Extra data\", s, end)\n",
      "json.decoder.JSONDecodeError: Extra data: line 1 column 48 (char 47)\n",
      "127.0.0.1 - - [24/Jan/2021 18:05:53] \"\u001b[35m\u001b[1mPOST / HTTP/1.1\u001b[0m\" 500 -\n",
      "127.0.0.1 - - [24/Jan/2021 18:05:53] \"\u001b[37mGET / HTTP/1.1\u001b[0m\" 200 -\n",
      "127.0.0.1 - - [24/Jan/2021 18:05:54] \"\u001b[33mGET /favicon.ico HTTP/1.1\u001b[0m\" 404 -\n",
      "127.0.0.1 - - [24/Jan/2021 18:05:54] \"\u001b[37mPOST / HTTP/1.1\u001b[0m\" 200 -\n",
      "127.0.0.1 - - [24/Jan/2021 18:06:00] \"\u001b[37mPOST / HTTP/1.1\u001b[0m\" 200 -\n",
      "127.0.0.1 - - [24/Jan/2021 18:06:01] \"\u001b[37mGET / HTTP/1.1\u001b[0m\" 200 -\n",
      "127.0.0.1 - - [24/Jan/2021 18:06:06] \"\u001b[37mPOST / HTTP/1.1\u001b[0m\" 200 -\n",
      "127.0.0.1 - - [24/Jan/2021 18:06:07] \"\u001b[37mGET / HTTP/1.1\u001b[0m\" 200 -\n",
      "127.0.0.1 - - [24/Jan/2021 18:06:11] \"\u001b[37mPOST / HTTP/1.1\u001b[0m\" 200 -\n",
      "127.0.0.1 - - [24/Jan/2021 18:06:16] \"\u001b[37mGET / HTTP/1.1\u001b[0m\" 200 -\n",
      "127.0.0.1 - - [24/Jan/2021 18:06:18] \"\u001b[37mGET / HTTP/1.1\u001b[0m\" 200 -\n",
      "127.0.0.1 - - [24/Jan/2021 18:06:20] \"\u001b[37mPOST / HTTP/1.1\u001b[0m\" 200 -\n",
      "127.0.0.1 - - [24/Jan/2021 18:06:28] \"\u001b[37mGET / HTTP/1.1\u001b[0m\" 200 -\n",
      "127.0.0.1 - - [24/Jan/2021 18:06:29] \"\u001b[37mPOST / HTTP/1.1\u001b[0m\" 200 -\n",
      "127.0.0.1 - - [24/Jan/2021 18:06:34] \"\u001b[37mPOST / HTTP/1.1\u001b[0m\" 200 -\n",
      "127.0.0.1 - - [24/Jan/2021 18:06:35] \"\u001b[37mPOST / HTTP/1.1\u001b[0m\" 200 -\n",
      "127.0.0.1 - - [24/Jan/2021 18:06:36] \"\u001b[37mGET / HTTP/1.1\u001b[0m\" 200 -\n",
      "127.0.0.1 - - [24/Jan/2021 18:06:42] \"\u001b[37mGET / HTTP/1.1\u001b[0m\" 200 -\n",
      "127.0.0.1 - - [24/Jan/2021 18:07:50] \"\u001b[37mPOST / HTTP/1.1\u001b[0m\" 200 -\n",
      "127.0.0.1 - - [24/Jan/2021 18:08:49] \"\u001b[37mGET / HTTP/1.1\u001b[0m\" 200 -\n"
     ]
    }
   ],
   "source": [
    "\n",
    "\n",
    "run_with_ngrok(app)\n",
    "app.run()\n",
    "\n"
   ]
  }
 ],
 "metadata": {
  "colab": {
   "name": "humerus_prediction",
   "provenance": []
  },
  "kernelspec": {
   "display_name": "Python 3",
   "language": "python",
   "name": "python3"
  },
  "language_info": {
   "codemirror_mode": {
    "name": "ipython",
    "version": 3
   },
   "file_extension": ".py",
   "mimetype": "text/x-python",
   "name": "python",
   "nbconvert_exporter": "python",
   "pygments_lexer": "ipython3",
   "version": "3.9.1"
  }
 },
 "nbformat": 4,
 "nbformat_minor": 4
}
