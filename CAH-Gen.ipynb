{
 "cells": [
  {
   "cell_type": "markdown",
   "metadata": {
    "colab_type": "text",
    "id": "gA4gCOvVHu_m"
   },
   "source": [
    "# A Text Generation RNN\n",
    "\n",
    "## Brian Chen | 2020\n",
    "\n",
    "For CAH card generation\n",
    "\n",
    "*Based on https://www.tensorflow.org/tutorials/text/text_generation*"
   ]
  },
  {
   "cell_type": "code",
   "execution_count": 3,
   "metadata": {
    "colab": {},
    "colab_type": "code",
    "executionInfo": {
     "elapsed": 3385,
     "status": "ok",
     "timestamp": 1599858380689,
     "user": {
      "displayName": "Brian Chen",
      "photoUrl": "https://lh3.googleusercontent.com/a-/AOh14Gh_6ex7lu1J7UG7wV2RfnS0UWArWg9XiSFToCl1TA=s64",
      "userId": "16803751930876923121"
     },
     "user_tz": 240
    },
    "id": "cauG-SgXHqRs"
   },
   "outputs": [],
   "source": [
    "#imports\n",
    "\n",
    "import tensorflow as tf\n",
    "import numpy as np\n",
    "import os\n",
    "import time"
   ]
  },
  {
   "cell_type": "code",
   "execution_count": 2,
   "metadata": {
    "colab": {},
    "colab_type": "code",
    "executionInfo": {
     "elapsed": 585,
     "status": "ok",
     "timestamp": 1599858376173,
     "user": {
      "displayName": "Brian Chen",
      "photoUrl": "https://lh3.googleusercontent.com/a-/AOh14Gh_6ex7lu1J7UG7wV2RfnS0UWArWg9XiSFToCl1TA=s64",
      "userId": "16803751930876923121"
     },
     "user_tz": 240
    },
    "id": "8j0U9eZjAXT2"
   },
   "outputs": [],
   "source": [
    "in_text = open(\"/content/drive/My Drive/TextGen RNN/Datasets/cah-answers.txt\", \"r\").read()\n",
    "\n",
    "#repeat a few times for more data\n",
    "\n",
    "for x in range(10):\n",
    "    in_text = in_text + in_text\n"
   ]
  },
  {
   "cell_type": "code",
   "execution_count": 4,
   "metadata": {
    "colab": {
     "base_uri": "https://localhost:8080/",
     "height": 54
    },
    "colab_type": "code",
    "executionInfo": {
     "elapsed": 2465,
     "status": "ok",
     "timestamp": 1599858381005,
     "user": {
      "displayName": "Brian Chen",
      "photoUrl": "https://lh3.googleusercontent.com/a-/AOh14Gh_6ex7lu1J7UG7wV2RfnS0UWArWg9XiSFToCl1TA=s64",
      "userId": "16803751930876923121"
     },
     "user_tz": 240
    },
    "id": "2I1LBimsHY8s",
    "outputId": "315ccec5-1575-40a0-9b87-33d2e262b452"
   },
   "outputs": [
    {
     "name": "stdout",
     "output_type": "stream",
     "text": [
      "84 ['\\n', ' ', '!', '\"', '#', '$', '%', '&', \"'\", '(', ')', '*', '+', ',', '-', '.', '/', '0', '1', '2', '3', '4', '5', '7', '8', '9', ':', ';', '<', '>', '?', 'A', 'B', 'C', 'D', 'E', 'F', 'G', 'H', 'I', 'J', 'K', 'L', 'M', 'N', 'O', 'P', 'Q', 'R', 'S', 'T', 'U', 'V', 'W', 'X', 'Y', 'Z', 'a', 'b', 'c', 'd', 'e', 'f', 'g', 'h', 'i', 'j', 'k', 'l', 'm', 'n', 'o', 'p', 'q', 'r', 's', 't', 'u', 'v', 'w', 'x', 'y', 'z', '’']\n"
     ]
    }
   ],
   "source": [
    "unique_chars = sorted(set(in_text))\n",
    "print(len(unique_chars), unique_chars)"
   ]
  },
  {
   "cell_type": "code",
   "execution_count": 5,
   "metadata": {
    "colab": {},
    "colab_type": "code",
    "executionInfo": {
     "elapsed": 5469,
     "status": "ok",
     "timestamp": 1599858384671,
     "user": {
      "displayName": "Brian Chen",
      "photoUrl": "https://lh3.googleusercontent.com/a-/AOh14Gh_6ex7lu1J7UG7wV2RfnS0UWArWg9XiSFToCl1TA=s64",
      "userId": "16803751930876923121"
     },
     "user_tz": 240
    },
    "id": "_5pqnx8ZHoHy"
   },
   "outputs": [],
   "source": [
    "char_to_index = {u:i for i, u in enumerate(unique_chars)}\n",
    "index_to_char = np.array(unique_chars)\n",
    "text_as_int = np.array([char_to_index[c] for c in in_text]) #abcd -> 1,2,3,4, for example"
   ]
  },
  {
   "cell_type": "code",
   "execution_count": 6,
   "metadata": {
    "colab": {},
    "colab_type": "code",
    "executionInfo": {
     "elapsed": 10159,
     "status": "ok",
     "timestamp": 1599858390323,
     "user": {
      "displayName": "Brian Chen",
      "photoUrl": "https://lh3.googleusercontent.com/a-/AOh14Gh_6ex7lu1J7UG7wV2RfnS0UWArWg9XiSFToCl1TA=s64",
      "userId": "16803751930876923121"
     },
     "user_tz": 240
    },
    "id": "ceEjM8IKcknD"
   },
   "outputs": [],
   "source": [
    "#parameters\n",
    "max_input_length = 100\n",
    "examples_per_epoch = len(in_text)\n",
    "\n",
    "dataset = tf.data.Dataset.from_tensor_slices(text_as_int)"
   ]
  },
  {
   "cell_type": "code",
   "execution_count": 7,
   "metadata": {
    "colab": {},
    "colab_type": "code",
    "executionInfo": {
     "elapsed": 8837,
     "status": "ok",
     "timestamp": 1599858390330,
     "user": {
      "displayName": "Brian Chen",
      "photoUrl": "https://lh3.googleusercontent.com/a-/AOh14Gh_6ex7lu1J7UG7wV2RfnS0UWArWg9XiSFToCl1TA=s64",
      "userId": "16803751930876923121"
     },
     "user_tz": 240
    },
    "id": "XomltG8pd8vh"
   },
   "outputs": [],
   "source": [
    "#turn chars into sequences of size\n",
    "seqs = dataset.batch(max_input_length+1, drop_remainder=True)"
   ]
  },
  {
   "cell_type": "code",
   "execution_count": 8,
   "metadata": {
    "colab": {
     "base_uri": "https://localhost:8080/",
     "height": 103
    },
    "colab_type": "code",
    "executionInfo": {
     "elapsed": 8226,
     "status": "ok",
     "timestamp": 1599858390332,
     "user": {
      "displayName": "Brian Chen",
      "photoUrl": "https://lh3.googleusercontent.com/a-/AOh14Gh_6ex7lu1J7UG7wV2RfnS0UWArWg9XiSFToCl1TA=s64",
      "userId": "16803751930876923121"
     },
     "user_tz": 240
    },
    "id": "3xxsaqMeeMwN",
    "outputId": "77141105-592a-4538-b414-822b2d1a4fa7"
   },
   "outputs": [
    {
     "name": "stdout",
     "output_type": "stream",
     "text": [
      "\"Flying sex snakes.\\nMichelle Obama's arms.\\nGerman dungeon porn.\\nWhite people.\\nGetting so angry that yo\"\n",
      "'u pop a boner.\\nTasteful sideboob.\\nPraying the gay away.\\nTwo midgets shitting into a bucket.\\nMechaHitl'\n",
      "'er.\\nBeing a motherfucking sorcerer.\\nA disappointing birthday party.\\nPuppies!\\nA windmill full of corps'\n",
      "\"es.\\nGuys who don't call.\\nRacially-biased SAT questions.\\nDying.\\nSteven Hawking talking dirty.\\nBeing on\"\n",
      "' fire.\\nA lifetime of sadness.\\nAn erection that lasts longer than four hours.\\nAIDS\\nSame-sex ice dancin'\n"
     ]
    }
   ],
   "source": [
    "for i in seqs.take(5):\n",
    "  print(repr(''.join(index_to_char[i.numpy()])))"
   ]
  },
  {
   "cell_type": "code",
   "execution_count": 9,
   "metadata": {
    "colab": {},
    "colab_type": "code",
    "executionInfo": {
     "elapsed": 6999,
     "status": "ok",
     "timestamp": 1599858390334,
     "user": {
      "displayName": "Brian Chen",
      "photoUrl": "https://lh3.googleusercontent.com/a-/AOh14Gh_6ex7lu1J7UG7wV2RfnS0UWArWg9XiSFToCl1TA=s64",
      "userId": "16803751930876923121"
     },
     "user_tz": 240
    },
    "id": "iys9-OCFeit1"
   },
   "outputs": [],
   "source": [
    "#duplicate input to create target & input text\n",
    "\"\"\"for example:\n",
    "Text: ABCDE\n",
    "Input: ABCDE\n",
    "Target: BCDE\n",
    "Thus, for input A, expect output = B, input = B, expected output=C...\"\"\"\n",
    "def create_target_input(sequence):\n",
    "  input = sequence[:-1]\n",
    "  target = sequence[1:]\n",
    "  return input, target"
   ]
  },
  {
   "cell_type": "code",
   "execution_count": 10,
   "metadata": {
    "colab": {},
    "colab_type": "code",
    "executionInfo": {
     "elapsed": 5389,
     "status": "ok",
     "timestamp": 1599858390335,
     "user": {
      "displayName": "Brian Chen",
      "photoUrl": "https://lh3.googleusercontent.com/a-/AOh14Gh_6ex7lu1J7UG7wV2RfnS0UWArWg9XiSFToCl1TA=s64",
      "userId": "16803751930876923121"
     },
     "user_tz": 240
    },
    "id": "zMeNlFkce1ME"
   },
   "outputs": [],
   "source": [
    "dataset = seqs.map(create_target_input)"
   ]
  },
  {
   "cell_type": "code",
   "execution_count": 11,
   "metadata": {
    "colab": {},
    "colab_type": "code",
    "executionInfo": {
     "elapsed": 4881,
     "status": "ok",
     "timestamp": 1599858390337,
     "user": {
      "displayName": "Brian Chen",
      "photoUrl": "https://lh3.googleusercontent.com/a-/AOh14Gh_6ex7lu1J7UG7wV2RfnS0UWArWg9XiSFToCl1TA=s64",
      "userId": "16803751930876923121"
     },
     "user_tz": 240
    },
    "id": "i_EmcHJAe7jt"
   },
   "outputs": [],
   "source": [
    "BATCH_SIZE = 64\n",
    "BUFFER_SIZE =  10000\n",
    "\n",
    "dataset = dataset.shuffle(BUFFER_SIZE).batch(BATCH_SIZE, drop_remainder=True)\n"
   ]
  },
  {
   "cell_type": "code",
   "execution_count": 12,
   "metadata": {
    "colab": {},
    "colab_type": "code",
    "executionInfo": {
     "elapsed": 436,
     "status": "ok",
     "timestamp": 1599858390339,
     "user": {
      "displayName": "Brian Chen",
      "photoUrl": "https://lh3.googleusercontent.com/a-/AOh14Gh_6ex7lu1J7UG7wV2RfnS0UWArWg9XiSFToCl1TA=s64",
      "userId": "16803751930876923121"
     },
     "user_tz": 240
    },
    "id": "Nbd8dVaLfy23"
   },
   "outputs": [],
   "source": [
    "vocab_size = len(unique_chars)\n",
    "embedding_size = 256\n",
    "rnn_units = 1024"
   ]
  },
  {
   "cell_type": "code",
   "execution_count": 13,
   "metadata": {
    "colab": {},
    "colab_type": "code",
    "executionInfo": {
     "elapsed": 417,
     "status": "ok",
     "timestamp": 1599858391685,
     "user": {
      "displayName": "Brian Chen",
      "photoUrl": "https://lh3.googleusercontent.com/a-/AOh14Gh_6ex7lu1J7UG7wV2RfnS0UWArWg9XiSFToCl1TA=s64",
      "userId": "16803751930876923121"
     },
     "user_tz": 240
    },
    "id": "OpopoSDWgU9n"
   },
   "outputs": [],
   "source": [
    "def build_model(vocab_size, embedding_dim, rnn_units, batch_size):\n",
    "  model = tf.keras.Sequential([\n",
    "    tf.keras.layers.Embedding(vocab_size, embedding_dim,\n",
    "                              batch_input_shape=[batch_size, None]),\n",
    "    tf.keras.layers.GRU(rnn_units,\n",
    "                        return_sequences=True,\n",
    "                        stateful=True,\n",
    "                        recurrent_initializer='glorot_uniform'),\n",
    "    tf.keras.layers.GRU(rnn_units,\n",
    "                        return_sequences=True,\n",
    "                        stateful=True,\n",
    "                        recurrent_initializer='glorot_uniform'),\n",
    "    tf.keras.layers.Dense(vocab_size)\n",
    "  ]) \n",
    "\n",
    "#sequential model w/ embedding layer for input, GRU as RNN (can use LSTM), dense layer for output (similar to sigver in some ways!)\n",
    "  return model"
   ]
  },
  {
   "cell_type": "code",
   "execution_count": 14,
   "metadata": {
    "colab": {
     "base_uri": "https://localhost:8080/",
     "height": 293
    },
    "colab_type": "code",
    "executionInfo": {
     "elapsed": 1073,
     "status": "ok",
     "timestamp": 1599858394233,
     "user": {
      "displayName": "Brian Chen",
      "photoUrl": "https://lh3.googleusercontent.com/a-/AOh14Gh_6ex7lu1J7UG7wV2RfnS0UWArWg9XiSFToCl1TA=s64",
      "userId": "16803751930876923121"
     },
     "user_tz": 240
    },
    "id": "WVLEEQtUgrNg",
    "outputId": "48ba0964-1e51-4587-90e9-6be59d91ccc4"
   },
   "outputs": [
    {
     "name": "stdout",
     "output_type": "stream",
     "text": [
      "Model: \"sequential\"\n",
      "_________________________________________________________________\n",
      "Layer (type)                 Output Shape              Param #   \n",
      "=================================================================\n",
      "embedding (Embedding)        (64, None, 256)           21504     \n",
      "_________________________________________________________________\n",
      "gru (GRU)                    (64, None, 1024)          3938304   \n",
      "_________________________________________________________________\n",
      "gru_1 (GRU)                  (64, None, 1024)          6297600   \n",
      "_________________________________________________________________\n",
      "dense (Dense)                (64, None, 84)            86100     \n",
      "=================================================================\n",
      "Total params: 10,343,508\n",
      "Trainable params: 10,343,508\n",
      "Non-trainable params: 0\n",
      "_________________________________________________________________\n"
     ]
    }
   ],
   "source": [
    "shakspeard = build_model(vocab_size, embedding_size, rnn_units, BATCH_SIZE)\n",
    "shakspeard.summary()"
   ]
  },
  {
   "cell_type": "code",
   "execution_count": 15,
   "metadata": {
    "colab": {},
    "colab_type": "code",
    "executionInfo": {
     "elapsed": 550,
     "status": "ok",
     "timestamp": 1599858396096,
     "user": {
      "displayName": "Brian Chen",
      "photoUrl": "https://lh3.googleusercontent.com/a-/AOh14Gh_6ex7lu1J7UG7wV2RfnS0UWArWg9XiSFToCl1TA=s64",
      "userId": "16803751930876923121"
     },
     "user_tz": 240
    },
    "id": "4xDsNh8qg0yz"
   },
   "outputs": [],
   "source": [
    "#Train Model\n",
    "def loss(labels, logits): #model returns logits, so from_logits=True (log-odds, log of probability)\n",
    "  return tf.keras.losses.sparse_categorical_crossentropy(labels, logits, from_logits=True)"
   ]
  },
  {
   "cell_type": "code",
   "execution_count": 16,
   "metadata": {
    "colab": {},
    "colab_type": "code",
    "executionInfo": {
     "elapsed": 570,
     "status": "ok",
     "timestamp": 1599858396850,
     "user": {
      "displayName": "Brian Chen",
      "photoUrl": "https://lh3.googleusercontent.com/a-/AOh14Gh_6ex7lu1J7UG7wV2RfnS0UWArWg9XiSFToCl1TA=s64",
      "userId": "16803751930876923121"
     },
     "user_tz": 240
    },
    "id": "QhQuQ_84hfAX"
   },
   "outputs": [],
   "source": [
    "shakspeard.compile(optimizer=\"adam\", loss=loss) #adam is usally the best choice"
   ]
  },
  {
   "cell_type": "code",
   "execution_count": 17,
   "metadata": {
    "colab": {},
    "colab_type": "code",
    "executionInfo": {
     "elapsed": 450,
     "status": "ok",
     "timestamp": 1599858397253,
     "user": {
      "displayName": "Brian Chen",
      "photoUrl": "https://lh3.googleusercontent.com/a-/AOh14Gh_6ex7lu1J7UG7wV2RfnS0UWArWg9XiSFToCl1TA=s64",
      "userId": "16803751930876923121"
     },
     "user_tz": 240
    },
    "id": "AHir_3m_ibnD"
   },
   "outputs": [],
   "source": [
    "check_dir = \"/content/drive/My Drive/TextGen RNN/Checkpoints_CAH-answers\"\n",
    "check_file_dir = os.path.join(check_dir, \"checkpoint_{epoch}\")\n",
    "\n",
    "checkpoints = tf.keras.callbacks.ModelCheckpoint(filepath = check_file_dir, save_weights_only=True)"
   ]
  },
  {
   "cell_type": "code",
   "execution_count": 18,
   "metadata": {
    "colab": {
     "base_uri": "https://localhost:8080/",
     "height": 707
    },
    "colab_type": "code",
    "executionInfo": {
     "elapsed": 293226,
     "status": "ok",
     "timestamp": 1599858691119,
     "user": {
      "displayName": "Brian Chen",
      "photoUrl": "https://lh3.googleusercontent.com/a-/AOh14Gh_6ex7lu1J7UG7wV2RfnS0UWArWg9XiSFToCl1TA=s64",
      "userId": "16803751930876923121"
     },
     "user_tz": 240
    },
    "id": "f1cuGRlNiFy-",
    "outputId": "96583673-abcb-4835-9b0e-599e90edcb40"
   },
   "outputs": [
    {
     "name": "stdout",
     "output_type": "stream",
     "text": [
      "Epoch 1/20\n",
      "100/100 [==============================] - 13s 130ms/step - loss: 2.8980\n",
      "Epoch 2/20\n",
      "100/100 [==============================] - 13s 132ms/step - loss: 2.1038\n",
      "Epoch 3/20\n",
      "100/100 [==============================] - 13s 135ms/step - loss: 1.0888\n",
      "Epoch 4/20\n",
      "100/100 [==============================] - 14s 137ms/step - loss: 0.2803\n",
      "Epoch 5/20\n",
      "100/100 [==============================] - 14s 139ms/step - loss: 0.2214\n",
      "Epoch 6/20\n",
      "100/100 [==============================] - 14s 142ms/step - loss: 0.2006\n",
      "Epoch 7/20\n",
      "100/100 [==============================] - 14s 144ms/step - loss: 0.1885\n",
      "Epoch 8/20\n",
      "100/100 [==============================] - 14s 144ms/step - loss: 0.1812\n",
      "Epoch 9/20\n",
      "100/100 [==============================] - 14s 143ms/step - loss: 0.1732\n",
      "Epoch 10/20\n",
      "100/100 [==============================] - 14s 142ms/step - loss: 0.1677\n",
      "Epoch 11/20\n",
      "100/100 [==============================] - 14s 141ms/step - loss: 0.1631\n",
      "Epoch 12/20\n",
      "100/100 [==============================] - 14s 141ms/step - loss: 0.1595\n",
      "Epoch 13/20\n",
      "100/100 [==============================] - 14s 142ms/step - loss: 0.1562\n",
      "Epoch 14/20\n",
      "100/100 [==============================] - 14s 142ms/step - loss: 0.1533\n",
      "Epoch 15/20\n",
      "100/100 [==============================] - 14s 143ms/step - loss: 0.1515\n",
      "Epoch 16/20\n",
      "100/100 [==============================] - 14s 142ms/step - loss: 0.1483\n",
      "Epoch 17/20\n",
      "100/100 [==============================] - 14s 142ms/step - loss: 0.1475\n",
      "Epoch 18/20\n",
      "100/100 [==============================] - 14s 142ms/step - loss: 0.1447\n",
      "Epoch 19/20\n",
      "100/100 [==============================] - 14s 142ms/step - loss: 0.1435\n",
      "Epoch 20/20\n",
      "100/100 [==============================] - 14s 142ms/step - loss: 0.1417\n"
     ]
    }
   ],
   "source": [
    "EPOCHS = 20\n",
    "STEPS= 100\n",
    "history = shakspeard.fit(dataset, epochs = EPOCHS, steps_per_epoch = STEPS, callbacks = [checkpoints])"
   ]
  },
  {
   "cell_type": "code",
   "execution_count": 19,
   "metadata": {
    "colab": {
     "base_uri": "https://localhost:8080/",
     "height": 35
    },
    "colab_type": "code",
    "executionInfo": {
     "elapsed": 667,
     "status": "ok",
     "timestamp": 1599858695819,
     "user": {
      "displayName": "Brian Chen",
      "photoUrl": "https://lh3.googleusercontent.com/a-/AOh14Gh_6ex7lu1J7UG7wV2RfnS0UWArWg9XiSFToCl1TA=s64",
      "userId": "16803751930876923121"
     },
     "user_tz": 240
    },
    "id": "sEzHZ_C8iF01",
    "outputId": "be276869-a079-45ee-ba72-91dce2e0a07f"
   },
   "outputs": [
    {
     "data": {
      "application/vnd.google.colaboratory.intrinsic+json": {
       "type": "string"
      },
      "text/plain": [
       "'/content/drive/My Drive/TextGen RNN/Checkpoints_CAH-answers/checkpoint_20'"
      ]
     },
     "execution_count": 19,
     "metadata": {
      "tags": []
     },
     "output_type": "execute_result"
    }
   ],
   "source": [
    "tf.train.latest_checkpoint(check_dir) #get latest chkpoint"
   ]
  },
  {
   "cell_type": "code",
   "execution_count": 87,
   "metadata": {
    "colab": {
     "base_uri": "https://localhost:8080/",
     "height": 745
    },
    "colab_type": "code",
    "executionInfo": {
     "elapsed": 922,
     "status": "ok",
     "timestamp": 1599859791170,
     "user": {
      "displayName": "Brian Chen",
      "photoUrl": "https://lh3.googleusercontent.com/a-/AOh14Gh_6ex7lu1J7UG7wV2RfnS0UWArWg9XiSFToCl1TA=s64",
      "userId": "16803751930876923121"
     },
     "user_tz": 240
    },
    "id": "VbxtEguzkDyU",
    "outputId": "9cb1fae5-3576-475a-c526-ba3b657d410e"
   },
   "outputs": [
    {
     "name": "stdout",
     "output_type": "stream",
     "text": [
      "WARNING:tensorflow:Unresolved object in checkpoint: (root).optimizer\n",
      "WARNING:tensorflow:Unresolved object in checkpoint: (root).optimizer.iter\n",
      "WARNING:tensorflow:Unresolved object in checkpoint: (root).optimizer.beta_1\n",
      "WARNING:tensorflow:Unresolved object in checkpoint: (root).optimizer.beta_2\n",
      "WARNING:tensorflow:Unresolved object in checkpoint: (root).optimizer.decay\n",
      "WARNING:tensorflow:Unresolved object in checkpoint: (root).optimizer.learning_rate\n",
      "WARNING:tensorflow:Unresolved object in checkpoint: (root).optimizer's state 'm' for (root).layer_with_weights-0.embeddings\n",
      "WARNING:tensorflow:Unresolved object in checkpoint: (root).optimizer's state 'm' for (root).layer_with_weights-3.kernel\n",
      "WARNING:tensorflow:Unresolved object in checkpoint: (root).optimizer's state 'm' for (root).layer_with_weights-3.bias\n",
      "WARNING:tensorflow:Unresolved object in checkpoint: (root).optimizer's state 'm' for (root).layer_with_weights-1.cell.kernel\n",
      "WARNING:tensorflow:Unresolved object in checkpoint: (root).optimizer's state 'm' for (root).layer_with_weights-1.cell.recurrent_kernel\n",
      "WARNING:tensorflow:Unresolved object in checkpoint: (root).optimizer's state 'm' for (root).layer_with_weights-1.cell.bias\n",
      "WARNING:tensorflow:Unresolved object in checkpoint: (root).optimizer's state 'm' for (root).layer_with_weights-2.cell.kernel\n",
      "WARNING:tensorflow:Unresolved object in checkpoint: (root).optimizer's state 'm' for (root).layer_with_weights-2.cell.recurrent_kernel\n",
      "WARNING:tensorflow:Unresolved object in checkpoint: (root).optimizer's state 'm' for (root).layer_with_weights-2.cell.bias\n",
      "WARNING:tensorflow:Unresolved object in checkpoint: (root).optimizer's state 'v' for (root).layer_with_weights-0.embeddings\n",
      "WARNING:tensorflow:Unresolved object in checkpoint: (root).optimizer's state 'v' for (root).layer_with_weights-3.kernel\n",
      "WARNING:tensorflow:Unresolved object in checkpoint: (root).optimizer's state 'v' for (root).layer_with_weights-3.bias\n",
      "WARNING:tensorflow:Unresolved object in checkpoint: (root).optimizer's state 'v' for (root).layer_with_weights-1.cell.kernel\n",
      "WARNING:tensorflow:Unresolved object in checkpoint: (root).optimizer's state 'v' for (root).layer_with_weights-1.cell.recurrent_kernel\n",
      "WARNING:tensorflow:Unresolved object in checkpoint: (root).optimizer's state 'v' for (root).layer_with_weights-1.cell.bias\n",
      "WARNING:tensorflow:Unresolved object in checkpoint: (root).optimizer's state 'v' for (root).layer_with_weights-2.cell.kernel\n",
      "WARNING:tensorflow:Unresolved object in checkpoint: (root).optimizer's state 'v' for (root).layer_with_weights-2.cell.recurrent_kernel\n",
      "WARNING:tensorflow:Unresolved object in checkpoint: (root).optimizer's state 'v' for (root).layer_with_weights-2.cell.bias\n",
      "WARNING:tensorflow:A checkpoint was restored (e.g. tf.train.Checkpoint.restore or tf.keras.Model.load_weights) but not all checkpointed values were used. See above for specific issues. Use expect_partial() on the load status object, e.g. tf.train.Checkpoint.restore(...).expect_partial(), to silence these warnings, or use assert_consumed() to make the check explicit. See https://www.tensorflow.org/guide/checkpoint#loading_mechanics for details.\n",
      "Model: \"sequential_5\"\n",
      "_________________________________________________________________\n",
      "Layer (type)                 Output Shape              Param #   \n",
      "=================================================================\n",
      "embedding_5 (Embedding)      (1, None, 256)            21504     \n",
      "_________________________________________________________________\n",
      "gru_10 (GRU)                 (1, None, 1024)           3938304   \n",
      "_________________________________________________________________\n",
      "gru_11 (GRU)                 (1, None, 1024)           6297600   \n",
      "_________________________________________________________________\n",
      "dense_5 (Dense)              (1, None, 84)             86100     \n",
      "=================================================================\n",
      "Total params: 10,343,508\n",
      "Trainable params: 10,343,508\n",
      "Non-trainable params: 0\n",
      "_________________________________________________________________\n"
     ]
    }
   ],
   "source": [
    "prediktor = build_model(vocab_size, embedding_dim=embedding_size, rnn_units=rnn_units, batch_size = 1)\n",
    "# prediktor.load_weights(tf.train.latest_checkpoint(check_dir))\n",
    "prediktor.load_weights('/content/drive/My Drive/TextGen RNN/Checkpoints_CAH-answers/checkpoint_15')\n",
    "prediktor.build(tf.TensorShape([1, None]))\n",
    "prediktor.summary()"
   ]
  },
  {
   "cell_type": "code",
   "execution_count": 45,
   "metadata": {
    "colab": {},
    "colab_type": "code",
    "executionInfo": {
     "elapsed": 525,
     "status": "ok",
     "timestamp": 1599859317200,
     "user": {
      "displayName": "Brian Chen",
      "photoUrl": "https://lh3.googleusercontent.com/a-/AOh14Gh_6ex7lu1J7UG7wV2RfnS0UWArWg9XiSFToCl1TA=s64",
      "userId": "16803751930876923121"
     },
     "user_tz": 240
    },
    "id": "Iv1wVaOOiF22"
   },
   "outputs": [],
   "source": [
    "def gen_text(model, seed, num_generate, temp):\n",
    "  \"\"\"\n",
    "  :param model: tf/keras model\n",
    "  :param seed: first line of text to build off of\n",
    "  :param num_generate: amount of chars to predict\n",
    "  :param temp: how much variance is allowed in predictions: higher = more varied, and vice versa\n",
    "  \"\"\"\n",
    "  gen_input = [char_to_index[i] for i in seed]\n",
    "  gen_input = tf.expand_dims(gen_input, 0)\n",
    "  out = []\n",
    "  \n",
    "  model.reset_states()\n",
    "  for i in range(num_generate):\n",
    "    pred = model(gen_input)\n",
    "    pred = tf.squeeze(pred, 0)\n",
    "    pred = pred/temp\n",
    "    pred_id = tf.random.categorical(pred, num_samples = 1)[-1, 0].numpy()\n",
    "    #add predicted output to next output\n",
    "    gen_input = tf.expand_dims([pred_id], 0)\n",
    "    out.append(index_to_char[pred_id])\n",
    "  return (seed + \"\".join(out))\n"
   ]
  },
  {
   "cell_type": "code",
   "execution_count": 56,
   "metadata": {
    "colab": {},
    "colab_type": "code",
    "executionInfo": {
     "elapsed": 635,
     "status": "ok",
     "timestamp": 1599859516924,
     "user": {
      "displayName": "Brian Chen",
      "photoUrl": "https://lh3.googleusercontent.com/a-/AOh14Gh_6ex7lu1J7UG7wV2RfnS0UWArWg9XiSFToCl1TA=s64",
      "userId": "16803751930876923121"
     },
     "user_tz": 240
    },
    "id": "5-6ePNEUDZ3L"
   },
   "outputs": [],
   "source": [
    "from random_word import RandomWords\n",
    "r = RandomWords()"
   ]
  },
  {
   "cell_type": "code",
   "execution_count": 90,
   "metadata": {
    "colab": {
     "base_uri": "https://localhost:8080/",
     "height": 759
    },
    "colab_type": "code",
    "executionInfo": {
     "elapsed": 6691,
     "status": "ok",
     "timestamp": 1599859808251,
     "user": {
      "displayName": "Brian Chen",
      "photoUrl": "https://lh3.googleusercontent.com/a-/AOh14Gh_6ex7lu1J7UG7wV2RfnS0UWArWg9XiSFToCl1TA=s64",
      "userId": "16803751930876923121"
     },
     "user_tz": 240
    },
    "id": "84_eKes2oG7G",
    "outputId": "e6740253-29fa-4ffb-a1d6-d448e79757b3"
   },
   "outputs": [
    {
     "name": "stdout",
     "output_type": "stream",
     "text": [
      "The Wild Samoan.\n",
      "Peanut Butter and Baby sandwicheing sex.\n",
      "Vietnam flashbacks.\n",
      "Running naked through a mall, pissing and shitting ever.\n",
      "Getting your dick stuck in a Chinese finger trap with another dick.\n",
      "Fishing.\n",
      "A pyansord..\n",
      "Lovingly animated bouncing boobs.\n",
      "Dragon Balls.\n",
      "Zangief's chest hair.\n",
      "DeviantArt.\n",
      "Giant fucking robots.\n",
      "Crossplay.\n",
      "Moeblob.\n",
      "Carl Macek's rotting corpse.\n",
      "My waifu.\n",
      "Voice actress Megumi Hayashibara.\n",
      "Lynn Minmei.\n",
      "Panty shots.\n",
      "Love and Justing.\n",
      "The thin veneer of situational causality shots.\n",
      "Love and Justice.\n",
      "Consensual tentacle rape.\n",
      "Gundam.\n",
      "Capting and blowing.\n",
      "The bullet with your name on it.\n",
      "The entire rest of eternity, spent in fucking Brueges Dreemping.\n",
      "Goats eating cans.\n",
      "The KKK.\n",
      "Kamikaze pilots.\n",
      "Horrifying laser hair removal accidents.\n",
      "Adderall&trade;.\n",
      "A look-see.\n",
      "Doing the right thing.\n",
      "The taint; the grundle; the fleshy fun-bridge.\n",
      "Lactation.\n",
      "Pabst Blue Ribbon.\n",
      "Powerful thighs.\n",
      "Saxophone solos.\n",
      "The gays.\n",
      "A middle-aged man on roller skates.\n",
      "A foul mouth.\n",
      "The thing \n"
     ]
    }
   ],
   "source": [
    "ex_out = gen_text(prediktor, \"The \", 1000, 1)\n",
    "print(ex_out)"
   ]
  },
  {
   "cell_type": "code",
   "execution_count": null,
   "metadata": {
    "colab": {},
    "colab_type": "code",
    "id": "890T1tm6r5Pu"
   },
   "outputs": [],
   "source": [
    "print(ex_out)"
   ]
  }
 ],
 "metadata": {
  "accelerator": "GPU",
  "colab": {
   "authorship_tag": "ABX9TyML02MCsIHBvvYUeTnqSksO",
   "collapsed_sections": [],
   "mount_file_id": "1-0KtxVuSlg2jCWj_WC7lORB5YBfVbine",
   "name": "CAH-Gen",
   "provenance": [],
   "toc_visible": true
  },
  "kernelspec": {
   "display_name": "Python 3",
   "language": "python",
   "name": "python3"
  },
  "language_info": {
   "codemirror_mode": {
    "name": "ipython",
    "version": 3
   },
   "file_extension": ".py",
   "mimetype": "text/x-python",
   "name": "python",
   "nbconvert_exporter": "python",
   "pygments_lexer": "ipython3",
   "version": "3.9.1"
  }
 },
 "nbformat": 4,
 "nbformat_minor": 4
}
