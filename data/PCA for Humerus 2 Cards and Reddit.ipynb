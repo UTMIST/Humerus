{
 "cells": [
  {
   "cell_type": "code",
   "execution_count": 1,
   "metadata": {},
   "outputs": [
    {
     "name": "stdout",
     "output_type": "stream",
     "text": [
      "['Hey Reddit! I’m _.Ask me anything.', 'Introducing X-treme Baseball!It’s like baseball, but with _!', 'What is Batman’s guilty pleasure?_.', 'TSA guidelines now prohibit _ on airplanes.', 'Next from J.K. Rowling: _.', 'That’s right, I killed _.How, you ask?_.', 'I’m sorry professor, but I couldn’t complete my homework because of _.', 'And the Academy Award for _ goes to _.', 'Dude, do not go in that bathroom.There’s _ in there.', 'How did I lose my virginity?_.']\n"
     ]
    }
   ],
   "source": [
    "#import necessary libraries and get the cards\n",
    "import json5\n",
    "with open('cah-base-en.deck.json5', encoding='utf-8') as fh:\n",
    "    d = json5.load(fh)\n",
    "\n",
    "# process black cards\n",
    "# simpy mush them together and replace all dicts with a single underscore\n",
    "bc = d['calls']\n",
    "flatten = lambda t:[item for sublist in t for item in sublist]\n",
    "bc = [\"\".join([x if type(x) == str else '_' for x in flatten(d['calls'][i])]) for i in range(len(d['calls']))]\n",
    "bc = [i.replace(\"__\", \"_\") for i in bc]\n",
    "# grab white cards\n",
    "wc = d['responses']\n",
    "print(bc[:10])\n",
    "nbc = [i for i in bc if i.count('_') <= 2]"
   ]
  },
  {
   "cell_type": "code",
   "execution_count": 3,
   "metadata": {},
   "outputs": [],
   "source": [
    "#import libraries\n",
    "from sentence_transformers import SentenceTransformer\n",
    "s_model = SentenceTransformer('distilbert-base-nli-mean-tokens')"
   ]
  },
  {
   "cell_type": "code",
   "execution_count": 4,
   "metadata": {},
   "outputs": [],
   "source": [
    "# create all possible card combinations\n",
    "# just brute force it!\n",
    "\n",
    "import itertools\n",
    "def make_card_combs(wcs, bcs):\n",
    "    onec = wcs\n",
    "    twoc = [i for i in itertools.permutations(wcs, 2)]\n",
    "    threec = [i for i in itertools.permutations(wcs, 3)]\n",
    "    bcs = [i.split(\"_\") for i in bcs]\n",
    "    plays = []\n",
    "\n",
    "    len_one_slot = 0\n",
    "    len_two_slot = 0\n",
    "    len_three_slot = 0\n",
    "\n",
    "    for bc in bcs:\n",
    "        bc = [i.strip() for i in bc]\n",
    "        if len(bc) == 2:\n",
    "            len_one_slot +=1 \n",
    "            for p in onec:\n",
    "               s = bc[0] + \" \" + p + \" \" +  bc[1]\n",
    "               s.replace(\". \", \" .\")\n",
    "               plays.append(s)\n",
    "        \n",
    "        elif len(bc) == 3:\n",
    "            len_two_slot +=1\n",
    "            for p in twoc:\n",
    "                s = bc[0] + \" \" + p[0] + \" \" +  bc[1] + \" \" + p[1] + bc[2]\n",
    "                s.replace(\". \", \" .\")\n",
    "                plays.append(s)\n",
    "        elif len(bc) == 4:\n",
    "            len_three_slot +=1\n",
    "            #for p in threec:\n",
    "            #   s = bc[0] + \" \" + p[0] + \" \" +  bc[1] + \" \" + p[1] + bc[2] + \" \" + p[2] + \" \" + bc[3]\n",
    "            #   s.replace(\". \", \" .\")\n",
    "            #   plays.append(s)\n",
    "        \n",
    "    print(\"one_slot:\", len_one_slot)\n",
    "    print(\"two_slot:\", len_two_slot)\n",
    "    print(\"three_slot:\", len_three_slot)\n",
    "    \n",
    "    return [i for i in plays if i != None]"
   ]
  },
  {
   "cell_type": "code",
   "execution_count": 5,
   "metadata": {},
   "outputs": [
    {
     "name": "stdout",
     "output_type": "stream",
     "text": [
      "one_slot: 66\n",
      "two_slot: 12\n",
      "three_slot: 0\n",
      "3027000\n"
     ]
    }
   ],
   "source": [
    "#call make all cards\n",
    "all_card_combs = make_card_combs(wc, nbc)\n",
    "print(len(all_card_combs))"
   ]
  },
  {
   "cell_type": "code",
   "execution_count": 6,
   "metadata": {},
   "outputs": [
    {
     "name": "stderr",
     "output_type": "stream",
     "text": [
      "100%|██████████| 3027000/3027000 [22:05:38<00:00, 38.06it/s]      \n"
     ]
    }
   ],
   "source": [
    "#generate from sbert\n",
    "from tqdm import tqdm\n",
    "embeddings = {}\n",
    "for c in tqdm(all_card_combs):\n",
    "    embeddings[c] = s_model.encode(c)"
   ]
  },
  {
   "cell_type": "code",
   "execution_count": 7,
   "metadata": {},
   "outputs": [],
   "source": [
    "#save the embeddings\n",
    "import pickle\n",
    "with open('embed_dict_bert_2cards_768d_raw.pkl', 'wb') as f:\n",
    "    pickle.dump(embeddings, f)"
   ]
  },
  {
   "cell_type": "code",
   "execution_count": null,
   "metadata": {},
   "outputs": [],
   "source": [
    "#convert to embedding matrix\n",
    "import numpy as np\n",
    "ordered_cards = list(embeddings.keys())\n",
    "ordered_embeddings = [embeddings[i].tolist()  for i in ordered_cards]\n",
    "#print(type(ordered_embeddings), len(ordered_embeddings))\n",
    "#print(type(ordered_embeddings[0]), len(ordered_embeddings[0]))\n",
    "ordered_embeddings = np.array(ordered_embeddings)\n",
    "#print(ordered_embeddings, ordered_embeddings.shape)"
   ]
  },
  {
   "cell_type": "code",
   "execution_count": null,
   "metadata": {},
   "outputs": [],
   "source": []
  }
 ],
 "metadata": {
  "kernelspec": {
   "display_name": "Python 3",
   "language": "python",
   "name": "python3"
  },
  "language_info": {
   "codemirror_mode": {
    "name": "ipython",
    "version": 3
   },
   "file_extension": ".py",
   "mimetype": "text/x-python",
   "name": "python",
   "nbconvert_exporter": "python",
   "pygments_lexer": "ipython3",
   "version": "3.8.5"
  }
 },
 "nbformat": 4,
 "nbformat_minor": 4
}
